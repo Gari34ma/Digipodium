{
 "cells": [
  {
   "cell_type": "code",
   "execution_count": 6,
   "metadata": {},
   "outputs": [
    {
     "name": "stdout",
     "output_type": "stream",
     "text": [
      "Good job \n"
     ]
    }
   ],
   "source": [
    "x = input(\"Enter kariye ek number: \")\n",
    "\n",
    "if x.isnumeric():\n",
    "    print('Good job ')\n",
    "else:\n",
    "    print('Sad Life ')"
   ]
  },
  {
   "cell_type": "code",
   "execution_count": 1,
   "metadata": {},
   "outputs": [
    {
     "name": "stdout",
     "output_type": "stream",
     "text": [
      "even\n"
     ]
    }
   ],
   "source": [
    "x = 10\n",
    "if x % 2 == 0:\n",
    "    print('even')\n",
    "else:\n",
    "    print(\"odd\")"
   ]
  },
  {
   "cell_type": "code",
   "execution_count": 1,
   "metadata": {},
   "outputs": [
    {
     "name": "stdout",
     "output_type": "stream",
     "text": [
      "Please wait {18 - age } years \n"
     ]
    }
   ],
   "source": [
    "age = int(input(\"Enter your age: \"))\n",
    "if age >= 18:\n",
    "    print('You have the right to vote ')\n",
    "else:\n",
    "    print(\"Please wait {18 - age } years \")         "
   ]
  },
  {
   "cell_type": "code",
   "execution_count": null,
   "metadata": {},
   "outputs": [
    {
     "name": "stdout",
     "output_type": "stream",
     "text": [
      "we have 100 kg mango in store \n",
      "total costing about Rs. 2000\n"
     ]
    }
   ],
   "source": [
    "x = 100\n",
    "y = 'mango'\n",
    "prc = 20\n",
    "print(f'we have {x} kg {y} in store ')\n",
    "print(f'total costing about Rs. {x * prc}')"
   ]
  },
  {
   "cell_type": "code",
   "execution_count": 2,
   "metadata": {},
   "outputs": [
    {
     "name": "stdout",
     "output_type": "stream",
     "text": [
      "x =12 is natural number\n",
      "x =12 is even number\n"
     ]
    }
   ],
   "source": [
    "x = int(input('Enter a number : '))\n",
    "if x > 0:\n",
    "    print(f\"{x =} is natural number\")\n",
    "if x % 2 == 0:\n",
    "    print(f'{x =} is even number')\n",
    "if x > 50:\n",
    "    print(f'{x = }is greater than 50')"
   ]
  },
  {
   "attachments": {},
   "cell_type": "markdown",
   "metadata": {},
   "source": [
    "wap to calculate 'total  salary 'on the basics of following rules \n",
    "\n",
    "- if designation is manager, basics salary is 50000\n",
    "- if designation is developer , basics salary is 40000\n",
    "- if designation is tester , basics salary is 30000\n",
    "- 10% of basic salary is given as bonus to manager \n",
    "- 20% of basic salary is given as bonus to developer\n",
    "- 30% of basic salary is given as bonus to tester \n",
    "- 20% hra is given on basic salary"
   ]
  },
  {
   "cell_type": "code",
   "execution_count": 3,
   "metadata": {},
   "outputs": [
    {
     "name": "stdout",
     "output_type": "stream",
     "text": [
      "65000.0\n"
     ]
    }
   ],
   "source": [
    "bs = 50000\n",
    "bns = bs * .1 #10%\n",
    "hra = bs * .2 #20%\n",
    "print(bs + bns + hra)"
   ]
  },
  {
   "cell_type": "code",
   "execution_count": null,
   "metadata": {},
   "outputs": [
    {
     "name": "stdout",
     "output_type": "stream",
     "text": [
      "52000.0\n"
     ]
    }
   ],
   "source": [
    "bs  = 40000\n",
    "bns = bs * .1 \n",
    "hra = bs * .2\n",
    "print(bs + bns + hra)"
   ]
  },
  {
   "attachments": {},
   "cell_type": "markdown",
   "metadata": {},
   "source": [
    "saperated conditions "
   ]
  },
  {
   "cell_type": "code",
   "execution_count": 4,
   "metadata": {},
   "outputs": [
    {
     "name": "stdout",
     "output_type": "stream",
     "text": [
      "total salary is 45000.0\n"
     ]
    }
   ],
   "source": [
    "post = input('Enter your designation :')\n",
    "if post == 'manager':\n",
    "    bs  = 50000\n",
    "    bns = bs * .1\n",
    "    hra = bs * .2\n",
    "if post == 'developer':\n",
    "    bs  = 40000\n",
    "    bns = bs * .2\n",
    "    hra = bs * .2\n",
    "if post == 'tester':\n",
    "    bs  = 30000\n",
    "    bns = bs * .3\n",
    "    hra = bs * .2\n",
    "print(f'total salary is {bs + bns + hra}')\n",
    " "
   ]
  },
  {
   "cell_type": "code",
   "execution_count": 4,
   "metadata": {},
   "outputs": [
    {
     "name": "stdout",
     "output_type": "stream",
     "text": [
      "not available\n"
     ]
    }
   ],
   "source": [
    "fruit = input('Enter a fruit name: ')\n",
    "match fruit:\n",
    "    case 'Apple':\n",
    "        print(\"Apple are 100/kg\")\n",
    "    case 'Mango':\n",
    "        print('Mangoes are 50/kg')\n",
    "    case 'Pomegranate':\n",
    "        print('Khatm ho gye')\n",
    "    case _:                  #default case\n",
    "        print(f'{fruit}not available')"
   ]
  },
  {
   "attachments": {},
   "cell_type": "markdown",
   "metadata": {},
   "source": [
    "wap to compare which number is greater between 3 numbers"
   ]
  },
  {
   "cell_type": "code",
   "execution_count": 2,
   "metadata": {},
   "outputs": [
    {
     "name": "stdout",
     "output_type": "stream",
     "text": [
      "c is greater\n"
     ]
    }
   ],
   "source": [
    "a = 230\n",
    "b = 41\n",
    "c = 931\n",
    "# related conditions use if-elif-else ladder,\n",
    "if a > b and a > c:\n",
    "    print('a is greater')\n",
    "elif b > a and b > c:\n",
    "    print('b is greater')\n",
    "else:\n",
    "    print('c is greater')"
   ]
  }
 ],
 "metadata": {
  "kernelspec": {
   "display_name": "Python 3",
   "language": "python",
   "name": "python3"
  },
  "language_info": {
   "codemirror_mode": {
    "name": "ipython",
    "version": 3
   },
   "file_extension": ".py",
   "mimetype": "text/x-python",
   "name": "python",
   "nbconvert_exporter": "python",
   "pygments_lexer": "ipython3",
   "version": "3.11.0"
  },
  "orig_nbformat": 4,
  "vscode": {
   "interpreter": {
    "hash": "1f6a27bcfbe46a917dbd192f4a82657396dda26148bae633192e8d28c70725f1"
   }
  }
 },
 "nbformat": 4,
 "nbformat_minor": 2
}
