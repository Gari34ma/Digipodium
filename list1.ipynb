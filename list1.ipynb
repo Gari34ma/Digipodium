{
 "cells": [
  {
   "cell_type": "code",
   "execution_count": null,
   "metadata": {},
   "outputs": [],
   "source": []
  },
  {
   "cell_type": "code",
   "execution_count": null,
   "metadata": {},
   "outputs": [],
   "source": [
    "print(x)\n",
    "print(x2)\n",
    "print(x3)\n",
    "print(x4)\n"
   ]
  },
  {
   "cell_type": "code",
   "execution_count": null,
   "metadata": {},
   "outputs": [],
   "source": [
    "y = [1]\n",
    "y = 5"
   ]
  },
  {
   "cell_type": "code",
   "execution_count": null,
   "metadata": {},
   "outputs": [],
   "source": [
    "x5 = x2*5\n",
    "print(x5)"
   ]
  },
  {
   "cell_type": "code",
   "execution_count": null,
   "metadata": {},
   "outputs": [],
   "source": [
    "x6 = x4 + x5 #concatenation\n",
    "print(x6)"
   ]
  },
  {
   "cell_type": "code",
   "execution_count": 1,
   "metadata": {},
   "outputs": [],
   "source": [
    "good_movies = ['Zindgi na milengi dobara','3 idiots','Bahubali','Hera Pheri','Andhadhun']\n",
    "bad_movies = ['circus','mission majnu','om shanti om','kabir singh','talash']"
   ]
  },
  {
   "cell_type": "code",
   "execution_count": 2,
   "metadata": {},
   "outputs": [
    {
     "name": "stdout",
     "output_type": "stream",
     "text": [
      "['Zindgi na milengi dobara', '3 idiots', 'Bahubali', 'Hera Pheri', 'Andhadhun', 'circus', 'mission majnu', 'om shanti om', 'kabir singh', 'talash']\n"
     ]
    }
   ],
   "source": [
    "all_movies = good_movies + bad_movies\n",
    "print(all_movies)"
   ]
  },
  {
   "cell_type": "code",
   "execution_count": 12,
   "metadata": {},
   "outputs": [],
   "source": [
    "all_movies.append('Troll 2')\n",
    "all_movies.append('Black Widow')"
   ]
  },
  {
   "cell_type": "code",
   "execution_count": 13,
   "metadata": {},
   "outputs": [
    {
     "name": "stdout",
     "output_type": "stream",
     "text": [
      "['Zindgi na milengi dobara', '3 idiots', 'The Dark Knight', 'The Dark Knight', 'Bahubali', 'Hera Pheri', 'Andhadhun', 'circus', 'mission majnu', 'om shanti om', 'kabir singh', 'talash', 'Fast & Fast Furious', '2 Fast 2 Furious', 'Fast & Furious: Tokyo Drift', 'Troll 2', 'Black Window', 'Fast & Fast Furious', '2 Fast 2 Furious', 'Fast & Furious: Tokyo Drift', 'Troll 2', 'Black Widow']\n"
     ]
    }
   ],
   "source": [
    "print(all_movies)"
   ]
  },
  {
   "cell_type": "code",
   "execution_count": 9,
   "metadata": {},
   "outputs": [
    {
     "name": "stdout",
     "output_type": "stream",
     "text": [
      "['Zindgi na milengi dobara', '3 idiots', 'The Dark Knight', 'The Dark Knight', 'Bahubali', 'Hera Pheri', 'Andhadhun', 'circus', 'mission majnu', 'om shanti om', 'kabir singh', 'talash', 'Fast & Fast Furious', '2 Fast 2 Furious', 'Fast & Furious: Tokyo Drift', 'Troll 2', 'Black Window']\n"
     ]
    }
   ],
   "source": [
    "all_movies.insert(2,'The Dark Knight')\n",
    "print(all_movies)"
   ]
  },
  {
   "cell_type": "code",
   "execution_count": 14,
   "metadata": {},
   "outputs": [
    {
     "name": "stdout",
     "output_type": "stream",
     "text": [
      "['Zindgi na milengi dobara', '3 idiots', 'The Dark Knight', 'The Dark Knight', 'Bahubali', 'Hera Pheri', 'Andhadhun', 'circus', 'mission majnu', 'om shanti om', 'kabir singh', 'talash', 'Fast & Fast Furious', '2 Fast 2 Furious', 'Fast & Furious: Tokyo Drift', 'Troll 2', 'Black Window', 'Fast & Fast Furious', '2 Fast 2 Furious', 'Fast & Furious: Tokyo Drift', 'Troll 2', 'Black Widow', 'Fast & Fast Furious', '2 Fast 2 Furious', 'Fast & Furious: Tokyo Drift']\n"
     ]
    }
   ],
   "source": [
    "sequels = ['Fast & Fast Furious', '2 Fast 2 Furious','Fast & Furious: Tokyo Drift']\n",
    "all_movies.extend(sequels)\n",
    "print(all_movies)"
   ]
  },
  {
   "cell_type": "code",
   "execution_count": 15,
   "metadata": {},
   "outputs": [
    {
     "data": {
      "text/plain": [
       "25"
      ]
     },
     "execution_count": 15,
     "metadata": {},
     "output_type": "execute_result"
    }
   ],
   "source": [
    "len(all_movies)"
   ]
  },
  {
   "cell_type": "code",
   "execution_count": 16,
   "metadata": {},
   "outputs": [
    {
     "data": {
      "text/plain": [
       "['Zindgi na milengi dobara',\n",
       " '3 idiots',\n",
       " 'The Dark Knight',\n",
       " 'The Dark Knight',\n",
       " 'Bahubali']"
      ]
     },
     "execution_count": 16,
     "metadata": {},
     "output_type": "execute_result"
    }
   ],
   "source": [
    "all_movies[:5] # first 5 elements"
   ]
  },
  {
   "cell_type": "code",
   "execution_count": 17,
   "metadata": {},
   "outputs": [
    {
     "data": {
      "text/plain": [
       "['Troll 2',\n",
       " 'Black Widow',\n",
       " 'Fast & Fast Furious',\n",
       " '2 Fast 2 Furious',\n",
       " 'Fast & Furious: Tokyo Drift']"
      ]
     },
     "execution_count": 17,
     "metadata": {},
     "output_type": "execute_result"
    }
   ],
   "source": [
    "all_movies[-5:] # last 5 elements"
   ]
  },
  {
   "cell_type": "code",
   "execution_count": 18,
   "metadata": {},
   "outputs": [
    {
     "name": "stdout",
     "output_type": "stream",
     "text": [
      "['Zindgi na milengi dobara', '3 idiots', 'The Dark Knight', 'Bahubali 2: The Conclusion', 'Bahubali', 'Hera Pheri', 'Andhadhun', 'circus', 'mission majnu', 'om shanti om', 'kabir singh', 'talash', 'Fast & Fast Furious', '2 Fast 2 Furious', 'Fast & Furious: Tokyo Drift', 'Troll 2', 'Black Window', 'Fast & Fast Furious', '2 Fast 2 Furious', 'Fast & Furious: Tokyo Drift', 'Troll 2', 'Black Widow', 'Fast & Fast Furious', '2 Fast 2 Furious', 'Fast & Furious: Tokyo Drift']\n"
     ]
    }
   ],
   "source": [
    "all_movies[3] = 'Bahubali 2: The Conclusion'\n",
    "print(all_movies)"
   ]
  },
  {
   "cell_type": "code",
   "execution_count": 21,
   "metadata": {},
   "outputs": [
    {
     "name": "stdout",
     "output_type": "stream",
     "text": [
      "['Zindgi na milengi dobara', '3 idiots', 'The Dark Knight', 'Bahubali 2: The Conclusion', 'Bahubali', 'Hera Pheri', 'Andhadhun', 'circus', 'mission majnu', 'om shanti om', 'kabir singh', 'talash', 'Fast & Fast Furious', '2 Fast 2 Furious', 'Fast & Furious: Tokyo Drift', 'Troll 2', 'Black Window', 'Fast & Fast Furious', '2 Fast 2 Furious', 'Fast & Furious: Tokyo Drift', 'Troll 2', 'Black Widow', 'Fast & Fast Furious', '2 Fast 2 Furious', 'Fast & Furious: Tokyo Drift']\n"
     ]
    }
   ],
   "source": [
    "all_movies.reverse()\n",
    "print(all_movies)"
   ]
  },
  {
   "cell_type": "code",
   "execution_count": 22,
   "metadata": {},
   "outputs": [
    {
     "data": {
      "text/plain": [
       "['Fast & Furious: Tokyo Drift',\n",
       " '2 Fast 2 Furious',\n",
       " 'Fast & Fast Furious',\n",
       " 'Black Widow',\n",
       " 'Troll 2',\n",
       " 'Fast & Furious: Tokyo Drift',\n",
       " '2 Fast 2 Furious',\n",
       " 'Fast & Fast Furious',\n",
       " 'Black Window',\n",
       " 'Troll 2',\n",
       " 'Fast & Furious: Tokyo Drift',\n",
       " '2 Fast 2 Furious',\n",
       " 'Fast & Fast Furious',\n",
       " 'talash',\n",
       " 'kabir singh',\n",
       " 'om shanti om',\n",
       " 'mission majnu',\n",
       " 'circus',\n",
       " 'Andhadhun',\n",
       " 'Hera Pheri',\n",
       " 'Bahubali',\n",
       " 'Bahubali 2: The Conclusion',\n",
       " 'The Dark Knight',\n",
       " '3 idiots',\n",
       " 'Zindgi na milengi dobara']"
      ]
     },
     "execution_count": 22,
     "metadata": {},
     "output_type": "execute_result"
    }
   ],
   "source": [
    "all_movies[::-1]"
   ]
  },
  {
   "cell_type": "code",
   "execution_count": 24,
   "metadata": {},
   "outputs": [
    {
     "name": "stdout",
     "output_type": "stream",
     "text": [
      "['talash', 'om shanti om', 'mission majnu', 'kabir singh', 'circus', 'Zindgi na milengi dobara', 'Troll 2', 'Troll 2', 'The Dark Knight', 'Hera Pheri', 'Fast & Furious: Tokyo Drift', 'Fast & Furious: Tokyo Drift', 'Fast & Furious: Tokyo Drift', 'Fast & Fast Furious', 'Fast & Fast Furious', 'Fast & Fast Furious', 'Black Window', 'Black Widow', 'Bahubali 2: The Conclusion', 'Bahubali', 'Andhadhun', '3 idiots', '2 Fast 2 Furious', '2 Fast 2 Furious', '2 Fast 2 Furious']\n"
     ]
    }
   ],
   "source": [
    "all_movies.sort(reverse=True)\n",
    "print(all_movies)"
   ]
  },
  {
   "cell_type": "code",
   "execution_count": 25,
   "metadata": {},
   "outputs": [],
   "source": [
    "import random as rnd"
   ]
  },
  {
   "cell_type": "code",
   "execution_count": 26,
   "metadata": {},
   "outputs": [
    {
     "name": "stdout",
     "output_type": "stream",
     "text": [
      "['2 Fast 2 Furious', 'talash', 'Fast & Furious: Tokyo Drift', 'The Dark Knight', 'om shanti om', 'Troll 2', 'Troll 2', 'kabir singh', 'Fast & Furious: Tokyo Drift', 'Andhadhun', 'mission majnu', '2 Fast 2 Furious', 'Bahubali 2: The Conclusion', 'Hera Pheri', 'Fast & Fast Furious', 'Fast & Fast Furious', 'Black Window', '2 Fast 2 Furious', 'circus', 'Bahubali', 'Zindgi na milengi dobara', 'Fast & Furious: Tokyo Drift', '3 idiots', 'Black Widow', 'Fast & Fast Furious']\n"
     ]
    }
   ],
   "source": [
    "rnd.shuffle(all_movies)\n",
    "print(all_movies)"
   ]
  },
  {
   "cell_type": "code",
   "execution_count": 27,
   "metadata": {},
   "outputs": [
    {
     "data": {
      "text/plain": [
       "'Bahubali'"
      ]
     },
     "execution_count": 27,
     "metadata": {},
     "output_type": "execute_result"
    }
   ],
   "source": [
    "rnd.choice(all_movies)"
   ]
  },
  {
   "cell_type": "code",
   "execution_count": 28,
   "metadata": {},
   "outputs": [
    {
     "data": {
      "text/plain": [
       "['Bahubali',\n",
       " 'talash',\n",
       " 'Andhadhun',\n",
       " 'Fast & Fast Furious',\n",
       " 'Fast & Furious: Tokyo Drift']"
      ]
     },
     "execution_count": 28,
     "metadata": {},
     "output_type": "execute_result"
    }
   ],
   "source": [
    "rnd.choices(all_movies, k=5)"
   ]
  },
  {
   "cell_type": "code",
   "execution_count": 29,
   "metadata": {},
   "outputs": [
    {
     "data": {
      "text/plain": [
       "22"
      ]
     },
     "execution_count": 29,
     "metadata": {},
     "output_type": "execute_result"
    }
   ],
   "source": [
    "all_movies.index('3 idiots')"
   ]
  },
  {
   "cell_type": "code",
   "execution_count": 30,
   "metadata": {},
   "outputs": [
    {
     "data": {
      "text/plain": [
       "'Fast & Fast Furious'"
      ]
     },
     "execution_count": 30,
     "metadata": {},
     "output_type": "execute_result"
    }
   ],
   "source": [
    "all_movies.pop() # removes last elements"
   ]
  },
  {
   "cell_type": "code",
   "execution_count": 32,
   "metadata": {},
   "outputs": [
    {
     "data": {
      "text/plain": [
       "'The Dark Knight'"
      ]
     },
     "execution_count": 32,
     "metadata": {},
     "output_type": "execute_result"
    }
   ],
   "source": [
    "all_movies.pop(3) # remove element at index 3"
   ]
  },
  {
   "cell_type": "code",
   "execution_count": 33,
   "metadata": {},
   "outputs": [
    {
     "name": "stdout",
     "output_type": "stream",
     "text": [
      "['2 Fast 2 Furious', 'talash', 'Fast & Furious: Tokyo Drift', 'om shanti om', 'Troll 2', 'Troll 2', 'kabir singh', 'Fast & Furious: Tokyo Drift', 'Andhadhun', 'mission majnu', '2 Fast 2 Furious', 'Bahubali 2: The Conclusion', 'Hera Pheri', 'Fast & Fast Furious', 'Fast & Fast Furious', 'Black Window', '2 Fast 2 Furious', 'circus', 'Bahubali', 'Zindgi na milengi dobara', 'Fast & Furious: Tokyo Drift', '3 idiots']\n"
     ]
    }
   ],
   "source": [
    "print(all_movies)"
   ]
  },
  {
   "cell_type": "code",
   "execution_count": 36,
   "metadata": {},
   "outputs": [
    {
     "name": "stdout",
     "output_type": "stream",
     "text": [
      "[100, 2, 200, 4, 5]\n",
      "[100, 2, 200, 4, 5]\n",
      "True\n"
     ]
    }
   ],
   "source": [
    "x = [1,2,3,4,5]\n",
    "y = x # data structure is not copied, only reference is copied\n",
    "y[0] = 100\n",
    "x[2] = 200\n",
    "print(x)\n",
    "print(y)\n",
    "print(x is y)"
   ]
  },
  {
   "cell_type": "code",
   "execution_count": 37,
   "metadata": {},
   "outputs": [
    {
     "name": "stdout",
     "output_type": "stream",
     "text": [
      "[100, 2, 200, 4]\n",
      "[100, 2, 200, 4]\n",
      "[100, 2, 200, 4, 5, 10]\n",
      "False\n"
     ]
    }
   ],
   "source": [
    "z = x.copy()\n",
    "z.append(10)\n",
    "x.remove(5)\n",
    "print(x)\n",
    "print(y)\n",
    "print(z)\n",
    "print(x is z)"
   ]
  },
  {
   "cell_type": "code",
   "execution_count": null,
   "metadata": {},
   "outputs": [],
   "source": []
  }
 ],
 "metadata": {
  "kernelspec": {
   "display_name": "Python 3",
   "language": "python",
   "name": "python3"
  },
  "language_info": {
   "codemirror_mode": {
    "name": "ipython",
    "version": 3
   },
   "file_extension": ".py",
   "mimetype": "text/x-python",
   "name": "python",
   "nbconvert_exporter": "python",
   "pygments_lexer": "ipython3",
   "version": "3.11.0"
  },
  "orig_nbformat": 4,
  "vscode": {
   "interpreter": {
    "hash": "1f6a27bcfbe46a917dbd192f4a82657396dda26148bae633192e8d28c70725f1"
   }
  }
 },
 "nbformat": 4,
 "nbformat_minor": 2
}
