{
 "cells": [
  {
   "attachments": {},
   "cell_type": "markdown",
   "metadata": {},
   "source": [
    "f(x) = x + 3\n",
    " \n",
    "g(x,y) = x**2 + y + 3\n",
    "\n",
    "     - lambda expressions\n",
    "     - map\n",
    "     - filter"
   ]
  },
  {
   "cell_type": "code",
   "execution_count": 2,
   "metadata": {},
   "outputs": [],
   "source": [
    "f = lambda x : x +3"
   ]
  },
  {
   "cell_type": "code",
   "execution_count": 4,
   "metadata": {},
   "outputs": [
    {
     "name": "stdout",
     "output_type": "stream",
     "text": [
      "6 7 10\n"
     ]
    }
   ],
   "source": [
    "print(f(3), f(4), f(7))"
   ]
  },
  {
   "cell_type": "code",
   "execution_count": 5,
   "metadata": {},
   "outputs": [
    {
     "name": "stdout",
     "output_type": "stream",
     "text": [
      "8 17\n"
     ]
    }
   ],
   "source": [
    "g = lambda x, y : x**2 + y +3\n",
    "print(g(2,1), g(3,5))"
   ]
  },
  {
   "cell_type": "code",
   "execution_count": 6,
   "metadata": {},
   "outputs": [
    {
     "name": "stdout",
     "output_type": "stream",
     "text": [
      "[15, 59, 84, 18, 2, 94, 18, 118]\n"
     ]
    }
   ],
   "source": [
    "x = [20,64,89,23,7,99,23,123]\n",
    "# for begginers\n",
    "y =[] # blank list\n",
    "for i in x:\n",
    "    y.append(i-5)\n",
    "print(y)"
   ]
  },
  {
   "cell_type": "code",
   "execution_count": 11,
   "metadata": {},
   "outputs": [
    {
     "data": {
      "text/plain": [
       "[100, 320, 445, 115, 35, 495, 115, 615]"
      ]
     },
     "execution_count": 11,
     "metadata": {},
     "output_type": "execute_result"
    }
   ],
   "source": [
    "list(map(lambda i: i*5, x))"
   ]
  },
  {
   "cell_type": "code",
   "execution_count": 14,
   "metadata": {},
   "outputs": [
    {
     "data": {
      "text/plain": [
       "[25.942243542145693, 71.84010022264724, 105.152270541344, 47.01063709417264]"
      ]
     },
     "execution_count": 14,
     "metadata": {},
     "output_type": "execute_result"
    }
   ],
   "source": [
    "p = [23,56,89,41]\n",
    "b = [12,45,56,23]\n",
    "h = list(map(lambda a,b: (a**2 + b**2)**.5, p,b))\n",
    "h"
   ]
  },
  {
   "attachments": {},
   "cell_type": "markdown",
   "metadata": {},
   "source": [
    "# create a list of square from a list of numbers"
   ]
  },
  {
   "cell_type": "code",
   "execution_count": 22,
   "metadata": {},
   "outputs": [
    {
     "name": "stdout",
     "output_type": "stream",
     "text": [
      "square of 1 to 5\n",
      "[1]\n",
      "square of 1 to 5\n",
      "[1, 4]\n",
      "square of 1 to 5\n",
      "[1, 4, 9]\n",
      "square of 1 to 5\n",
      "[1, 4, 9, 16]\n"
     ]
    }
   ],
   "source": [
    "a = []\n",
    "for i in range(1,5):\n",
    "    a.append(i*i)\n",
    "    print(\"square of 1 to 5\")\n",
    "    print(a)"
   ]
  },
  {
   "cell_type": "code",
   "execution_count": 19,
   "metadata": {},
   "outputs": [
    {
     "name": "stdout",
     "output_type": "stream",
     "text": [
      "[3, 4, 5, 6, 7, 8, 9, 4, 5, 6, 3, 8, 9, 4]\n"
     ]
    }
   ],
   "source": [
    "a = [2,3,4,5,6,7,8,9,2,4,5,6,3,2,1,8,9,4]\n",
    "b = list(filter(lambda i: i>=3, a))\n",
    "print(b)"
   ]
  },
  {
   "cell_type": "code",
   "execution_count": 20,
   "metadata": {},
   "outputs": [
    {
     "data": {
      "text/plain": [
       "[9, 16, 25, 36, 49, 64, 81, 16, 25, 36, 9, 64, 81, 16]"
      ]
     },
     "execution_count": 20,
     "metadata": {},
     "output_type": "execute_result"
    }
   ],
   "source": [
    "# square of all values greater than eqaul to 3\n",
    "list(map(lambda i: i**2, filter(lambda i: i>=3, a)))"
   ]
  },
  {
   "cell_type": "code",
   "execution_count": null,
   "metadata": {},
   "outputs": [],
   "source": []
  }
 ],
 "metadata": {
  "kernelspec": {
   "display_name": "Python 3",
   "language": "python",
   "name": "python3"
  },
  "language_info": {
   "codemirror_mode": {
    "name": "ipython",
    "version": 3
   },
   "file_extension": ".py",
   "mimetype": "text/x-python",
   "name": "python",
   "nbconvert_exporter": "python",
   "pygments_lexer": "ipython3",
   "version": "3.11.0"
  },
  "orig_nbformat": 4,
  "vscode": {
   "interpreter": {
    "hash": "1f6a27bcfbe46a917dbd192f4a82657396dda26148bae633192e8d28c70725f1"
   }
  }
 },
 "nbformat": 4,
 "nbformat_minor": 2
}
