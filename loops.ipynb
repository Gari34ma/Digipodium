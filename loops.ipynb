{
 "cells": [
  {
   "cell_type": "code",
   "execution_count": 1,
   "metadata": {},
   "outputs": [
    {
     "name": "stdout",
     "output_type": "stream",
     "text": [
      "12 56 23 56 78 21 "
     ]
    }
   ],
   "source": [
    "x = [12,56,23,56,78,21]\n",
    "for item in x:\n",
    "    print(item,end=' ')"
   ]
  },
  {
   "cell_type": "code",
   "execution_count": 24,
   "metadata": {},
   "outputs": [
    {
     "name": "stdout",
     "output_type": "stream",
     "text": [
      "total apps = 15\n"
     ]
    }
   ],
   "source": [
    "apps = [\n",
    "    'act fibernet','airtel','amazon','alexa','authenticator',\n",
    "    'axis mobile','blinkit','calculator','calender',\n",
    "    'call of duty','camera','claim cube','chrome',\n",
    "    'cleanfox','clock',\n",
    "]\n",
    "print(f'total apps = {len(apps)}')"
   ]
  },
  {
   "cell_type": "code",
   "execution_count": 25,
   "metadata": {},
   "outputs": [
    {
     "name": "stdout",
     "output_type": "stream",
     "text": [
      "act fibernet\n",
      "airtel\n",
      "amazon\n",
      "alexa\n",
      "authenticator\n",
      "axis mobile\n",
      "blinkit\n",
      "calculator\n",
      "calender\n",
      "call of duty\n",
      "camera\n",
      "claim cube\n",
      "chrome\n",
      "cleanfox\n",
      "clock\n"
     ]
    }
   ],
   "source": [
    "for app in apps:\n",
    "    print(app)"
   ]
  },
  {
   "cell_type": "code",
   "execution_count": null,
   "metadata": {},
   "outputs": [],
   "source": [
    "for app in apps:\n",
    "    print(f'{app:20} | {len(app)}')"
   ]
  },
  {
   "cell_type": "code",
   "execution_count": null,
   "metadata": {},
   "outputs": [],
   "source": [
    "for app in apps:\n",
    "    if 'n' in app:\n",
    "        print(app)"
   ]
  },
  {
   "cell_type": "code",
   "execution_count": null,
   "metadata": {},
   "outputs": [],
   "source": [
    "for app in apps:\n",
    "    if app.startswith('a'):\n",
    "        print(app)"
   ]
  },
  {
   "cell_type": "code",
   "execution_count": 2,
   "metadata": {},
   "outputs": [
    {
     "name": "stdout",
     "output_type": "stream",
     "text": [
      "12\n",
      "56\n",
      "67\n",
      "32\n",
      "6\n",
      "68\n"
     ]
    }
   ],
   "source": [
    "data = [12,56,0,67,0,32,6,0,68,0,0,0]\n",
    "for i in data:\n",
    "    if i == 0:\n",
    "        continue\n",
    "    print(i)"
   ]
  },
  {
   "cell_type": "code",
   "execution_count": 11,
   "metadata": {},
   "outputs": [
    {
     "name": "stdout",
     "output_type": "stream",
     "text": [
      "32\n",
      "45\n",
      "12\n",
      "5\n",
      "6\n"
     ]
    }
   ],
   "source": [
    "data = [32,45,12,5,6,0,0,0,2,65,7,677]\n",
    "for i in data:\n",
    "    if i == 0:\n",
    "        break\n",
    "    print(i)"
   ]
  },
  {
   "cell_type": "code",
   "execution_count": 27,
   "metadata": {},
   "outputs": [
    {
     "name": "stdout",
     "output_type": "stream",
     "text": [
      "act fibernet\n",
      "airtel\n",
      "amazon\n",
      "alexa\n",
      "authenticator\n",
      "axis mobile\n",
      "blinkit\n",
      "calculator\n",
      "calender\n",
      "call of duty\n",
      "camera\n",
      "claim cube\n",
      "chrome\n",
      "cleanfox\n",
      "clock\n"
     ]
    }
   ],
   "source": [
    "for app in apps:\n",
    "    print(app)"
   ]
  },
  {
   "cell_type": "code",
   "execution_count": 28,
   "metadata": {},
   "outputs": [
    {
     "name": "stdout",
     "output_type": "stream",
     "text": [
      "act fibernet\n",
      "airtel\n",
      "amazon\n",
      "alexa\n",
      "authenticator\n",
      "axis mobile\n",
      "blinkit\n",
      "calculator\n",
      "calender\n",
      "call of duty\n",
      "camera\n",
      "claim cube\n",
      "chrome\n",
      "cleanfox\n",
      "clock\n"
     ]
    }
   ],
   "source": [
    "for i,app in enumerate(apps):\n",
    "    print(app)"
   ]
  },
  {
   "cell_type": "code",
   "execution_count": 29,
   "metadata": {},
   "outputs": [
    {
     "name": "stdout",
     "output_type": "stream",
     "text": [
      "0 act fibernet\n",
      "1 airtel\n",
      "2 amazon\n",
      "3 alexa\n",
      "4 authenticator\n",
      "5 axis mobile\n",
      "6 blinkit\n",
      "7 calculator\n",
      "8 calender\n",
      "9 call of duty\n",
      "10 camera\n"
     ]
    }
   ],
   "source": [
    "for i, app in enumerate(apps):\n",
    "    if i > 10:\n",
    "        break\n",
    "    print(i,app)"
   ]
  },
  {
   "cell_type": "code",
   "execution_count": 18,
   "metadata": {},
   "outputs": [
    {
     "name": "stdout",
     "output_type": "stream",
     "text": [
      "2 prime\n"
     ]
    }
   ],
   "source": [
    "# for else \n",
    "num = int(input('enter a no. :'))\n",
    "for i in range(2,num):\n",
    "    if num % i == 0:\n",
    "        print(f\"{num} Non prime\")\n",
    "else:\n",
    "    print(f\"{num} prime\")"
   ]
  },
  {
   "cell_type": "code",
   "execution_count": 8,
   "metadata": {},
   "outputs": [
    {
     "name": "stdout",
     "output_type": "stream",
     "text": [
      "15\n",
      "17\n",
      "19\n",
      "21\n",
      "23\n",
      "25\n",
      "27\n",
      "29\n"
     ]
    }
   ],
   "source": [
    "for i in range(15,30,2):\n",
    "    print(i)"
   ]
  },
  {
   "cell_type": "code",
   "execution_count": 19,
   "metadata": {},
   "outputs": [],
   "source": [
    "items = ['Pen','Pencil','Book','Stickers']\n",
    "pricess = [10.00,2.00,199.00,5.00]\n",
    "qty = [20,50,10,20]"
   ]
  },
  {
   "cell_type": "code",
   "execution_count": 6,
   "metadata": {},
   "outputs": [
    {
     "name": "stdout",
     "output_type": "stream",
     "text": [
      "Pen         10.0    20\n",
      "Pencil       2.0    50\n",
      "Book       199.0    10\n",
      "Stickers     5.0    20\n"
     ]
    }
   ],
   "source": [
    "for i, p, q in zip(items , pricess, qty):\n",
    "       print(f'{i:10} {p:5} {q:5}')"
   ]
  },
  {
   "cell_type": "code",
   "execution_count": 21,
   "metadata": {},
   "outputs": [
    {
     "name": "stdout",
     "output_type": "stream",
     "text": [
      "5\n",
      "1234\n"
     ]
    }
   ],
   "source": [
    "n = 12345\n",
    "print(n % 10) # unit place value\n",
    "print(n // 10) # remaining digits"
   ]
  },
  {
   "cell_type": "code",
   "execution_count": 20,
   "metadata": {},
   "outputs": [
    {
     "name": "stdout",
     "output_type": "stream",
     "text": [
      "1\n"
     ]
    }
   ],
   "source": [
    "n = int(input('enter any value: '))\n",
    "total = 0\n",
    "while n > 0:\n",
    "    total += n % 10 # add remainder to total\n",
    "    n = n// 10      # make the quotient as number\n",
    "print(total)\n"
   ]
  },
  {
   "cell_type": "code",
   "execution_count": 10,
   "metadata": {},
   "outputs": [
    {
     "name": "stdout",
     "output_type": "stream",
     "text": [
      "try again . Retry left 2\n",
      "try again . Retry left 1\n",
      "try again . Retry left 0\n"
     ]
    }
   ],
   "source": [
    "retries = 0\n",
    "while retries < 3:\n",
    "    pin = input('enter pin: ')\n",
    "    if pin == '1234':\n",
    "       print(\"Welcome master\")\n",
    "       break\n",
    "    else:\n",
    "        print(f\"try again . Retry left {2- retries}\")\n",
    "        retries += 1"
   ]
  }
 ],
 "metadata": {
  "kernelspec": {
   "display_name": "Python 3",
   "language": "python",
   "name": "python3"
  },
  "language_info": {
   "codemirror_mode": {
    "name": "ipython",
    "version": 3
   },
   "file_extension": ".py",
   "mimetype": "text/x-python",
   "name": "python",
   "nbconvert_exporter": "python",
   "pygments_lexer": "ipython3",
   "version": "3.11.0"
  },
  "orig_nbformat": 4,
  "vscode": {
   "interpreter": {
    "hash": "1f6a27bcfbe46a917dbd192f4a82657396dda26148bae633192e8d28c70725f1"
   }
  }
 },
 "nbformat": 4,
 "nbformat_minor": 2
}
