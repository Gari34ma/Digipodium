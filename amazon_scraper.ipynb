{
 "cells": [
  {
   "cell_type": "code",
   "execution_count": 9,
   "metadata": {},
   "outputs": [
    {
     "ename": "ModuleNotFoundError",
     "evalue": "No module named 'dputils.sraper'",
     "output_type": "error",
     "traceback": [
      "\u001b[1;31m---------------------------------------------------------------------------\u001b[0m",
      "\u001b[1;31mModuleNotFoundError\u001b[0m                       Traceback (most recent call last)",
      "Cell \u001b[1;32mIn[9], line 1\u001b[0m\n\u001b[1;32m----> 1\u001b[0m \u001b[39mfrom\u001b[39;00m \u001b[39mdputils\u001b[39;00m\u001b[39m.\u001b[39;00m\u001b[39msraper\u001b[39;00m \u001b[39mimport\u001b[39;00m Scraper, Tag\n",
      "\u001b[1;31mModuleNotFoundError\u001b[0m: No module named 'dputils.sraper'"
     ]
    }
   ],
   "source": [
    "from dputils.sraper import Scraper, Tag"
   ]
  },
  {
   "cell_type": "code",
   "execution_count": null,
   "metadata": {},
   "outputs": [],
   "source": [
    "def  get_data(query, page=1):\n",
    "    scraper = Scraper(f'https://www.amazon.in/s?k={query}&page={page}')\n",
    "    print(scraper.soup.title)\n",
    "    target=Tag(cls='s-main-slot s-result-list  s-search-results sg-row')\n",
    "    items=Tag(cls='s-result-item')\n",
    "    brand=Tag('h5')\n",
    "    title=Tag('h2')\n",
    "    price=Tag('span',cls='a-prize-whole')\n",
    "    rating=Tag('span',cls='a-size-base')\n",
    "    oprice=Tag('span',cls='a-offscreen')\n",
    "    disc=Tag()\n",
    "    return scraper.get_all(target, items,\n",
    "        brand=brand, title=title, price=price,\n",
    "        rating=rating, oprice=oprice)"
   ]
  },
  {
   "cell_type": "code",
   "execution_count": null,
   "metadata": {},
   "outputs": [
    {
     "name": "stdout",
     "output_type": "stream",
     "text": [
      "fetching page 1 data\n"
     ]
    },
    {
     "ename": "NameError",
     "evalue": "name 'Scraper' is not defined",
     "output_type": "error",
     "traceback": [
      "\u001b[1;31m---------------------------------------------------------------------------\u001b[0m",
      "\u001b[1;31mNameError\u001b[0m                                 Traceback (most recent call last)",
      "Cell \u001b[1;32mIn[3], line 6\u001b[0m\n\u001b[0;32m      4\u001b[0m \u001b[39mfor\u001b[39;00m i \u001b[39min\u001b[39;00m \u001b[39mrange\u001b[39m(\u001b[39m1\u001b[39m,\u001b[39m11\u001b[39m):\n\u001b[0;32m      5\u001b[0m     \u001b[39mprint\u001b[39m(\u001b[39mf\u001b[39m\u001b[39m'\u001b[39m\u001b[39mfetching page \u001b[39m\u001b[39m{\u001b[39;00mi\u001b[39m}\u001b[39;00m\u001b[39m data\u001b[39m\u001b[39m'\u001b[39m)\n\u001b[1;32m----> 6\u001b[0m     data \u001b[39m=\u001b[39m get_data(query,i)\n\u001b[0;32m      7\u001b[0m     \u001b[39mif\u001b[39;00m \u001b[39mlen\u001b[39m(data) \u001b[39m==\u001b[39m \u001b[39m0\u001b[39m:\n\u001b[0;32m      8\u001b[0m         \u001b[39mprint\u001b[39m(\u001b[39m'\u001b[39m\u001b[39mno more data\u001b[39m\u001b[39m'\u001b[39m)\n",
      "Cell \u001b[1;32mIn[1], line 2\u001b[0m, in \u001b[0;36mget_data\u001b[1;34m(query, page)\u001b[0m\n\u001b[0;32m      1\u001b[0m \u001b[39mdef\u001b[39;00m  \u001b[39mget_data\u001b[39m(query, page\u001b[39m=\u001b[39m\u001b[39m1\u001b[39m):\n\u001b[1;32m----> 2\u001b[0m     scraper \u001b[39m=\u001b[39m Scraper(\u001b[39mf\u001b[39m\u001b[39m'\u001b[39m\u001b[39mhttps://www.amazon.in/s?k=\u001b[39m\u001b[39m{\u001b[39;00mquery\u001b[39m}\u001b[39;00m\u001b[39m&page=\u001b[39m\u001b[39m{\u001b[39;00mpage\u001b[39m}\u001b[39;00m\u001b[39m'\u001b[39m)\n\u001b[0;32m      3\u001b[0m     \u001b[39mprint\u001b[39m(scraper\u001b[39m.\u001b[39msoup\u001b[39m.\u001b[39mtitle)\n\u001b[0;32m      4\u001b[0m     target\u001b[39m=\u001b[39mTag(\u001b[39mcls\u001b[39m\u001b[39m=\u001b[39m\u001b[39m'\u001b[39m\u001b[39ms-main-slot s-result-list  s-search-results sg-row\u001b[39m\u001b[39m'\u001b[39m)\n",
      "\u001b[1;31mNameError\u001b[0m: name 'Scraper' is not defined"
     ]
    }
   ],
   "source": [
    "query='watch'\n",
    "page=1\n",
    "all_data=[]\n",
    "for i in range(1,11):\n",
    "    print(f'fetching page {i} data')\n",
    "    data = get_data(query,i)\n",
    "    if len(data) == 0:\n",
    "        print('no more data')\n",
    "        break\n",
    "    all_data.extend(data)\n",
    "all_data"
   ]
  },
  {
   "cell_type": "code",
   "execution_count": null,
   "metadata": {},
   "outputs": [
    {
     "data": {
      "text/plain": [
       "[]"
      ]
     },
     "execution_count": 4,
     "metadata": {},
     "output_type": "execute_result"
    }
   ],
   "source": [
    "all_data"
   ]
  },
  {
   "cell_type": "code",
   "execution_count": null,
   "metadata": {},
   "outputs": [],
   "source": [
    "import pandas as pd\n",
    "pd.DataFrame(all_data).dropna(how='any').to_excel('amazon.xlsx', index=False)"
   ]
  },
  {
   "attachments": {},
   "cell_type": "markdown",
   "metadata": {},
   "source": [
    "install these packages using pip\n",
    "'''python\n",
    " pip install seaborn matplotlib plotly numpy streamlit flask sqlalchemycikit-learn --upgrade"
   ]
  },
  {
   "cell_type": "code",
   "execution_count": null,
   "metadata": {},
   "outputs": [],
   "source": []
  }
 ],
 "metadata": {
  "kernelspec": {
   "display_name": "Python 3",
   "language": "python",
   "name": "python3"
  },
  "language_info": {
   "codemirror_mode": {
    "name": "ipython",
    "version": 3
   },
   "file_extension": ".py",
   "mimetype": "text/x-python",
   "name": "python",
   "nbconvert_exporter": "python",
   "pygments_lexer": "ipython3",
   "version": "3.10.2"
  },
  "orig_nbformat": 4,
  "vscode": {
   "interpreter": {
    "hash": "369f2c481f4da34e4445cda3fffd2e751bd1c4d706f27375911949ba6bb62e1c"
   }
  }
 },
 "nbformat": 4,
 "nbformat_minor": 2
}
